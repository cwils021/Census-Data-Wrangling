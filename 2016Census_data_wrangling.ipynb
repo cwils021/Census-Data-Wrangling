{
  "nbformat": 4,
  "nbformat_minor": 0,
  "metadata": {
    "colab": {
      "name": "2016Census_data_wrangling.ipynb",
      "provenance": [],
      "collapsed_sections": [],
      "mount_file_id": "11z7knxdxNqCwkIioO43fU4HkDmDkegVU",
      "authorship_tag": "ABX9TyM6212TnW9OrQFfBJwdZpvw",
      "include_colab_link": true
    },
    "kernelspec": {
      "name": "python3",
      "display_name": "Python 3"
    },
    "language_info": {
      "name": "python"
    }
  },
  "cells": [
    {
      "cell_type": "markdown",
      "metadata": {
        "id": "view-in-github",
        "colab_type": "text"
      },
      "source": [
        "<a href=\"https://colab.research.google.com/github/cwils021/Census-Data-Wrangling/blob/main/2016Census_data_wrangling.ipynb\" target=\"_parent\"><img src=\"https://colab.research.google.com/assets/colab-badge.svg\" alt=\"Open In Colab\"/></a>"
      ]
    },
    {
      "cell_type": "markdown",
      "metadata": {
        "id": "1JeAum0lcU0v"
      },
      "source": [
        "# 2016 StatCan Census Data (Age, Gender of Population of Canada, Provinces and Territories, Census Divisions, Census Subdivisions and Dissemination Areas"
      ]
    },
    {
      "cell_type": "markdown",
      "metadata": {
        "id": "1brCmxD7cylT"
      },
      "source": [
        "## Requirements before running Script\n",
        "\n",
        "1. Download CSV data from StatCan [Age Data Table](https://www12.statcan.gc.ca/census-recensement/2016/dp-pd/dt-td/Rp-eng.cfm?TABID=4&LANG=E&A=R&APATH=3&DETAIL=0&DIM=0&FL=A&FREE=0&GC=01&GL=-1&GID=1159582&GK=1&GRP=1&O=D&PID=109526&PRID=10&PTYPE=109445&S=0&SHOWALL=0&SUB=0&Temporal=2016&THEME=115&VID=0&VNAMEE=&VNAMEF=&D1=0&D2=0&D3=0&D4=0&D5=0&D6=0)\n",
        "2. Clean up column names to match what script will expect (see table below) (ex. ensure no whitespace, drop empty columns (notes)) - I did this in Excel quickly while examining file\n",
        "\n",
        "|                     Old Column Name                     |  New Column Name  |\n",
        "| :-----------------------------------------------------: | :---------------: |\n",
        "|                       CENSUS_YEAR                       |    CENSUS_YEAR    |\n",
        "|                     GEO_CODE (POR)                      |     GEO_CODE      |\n",
        "|                        GEO_LEVEL                        |     GEO_LEVEL     |\n",
        "|                        GEO_NAME                         |     GEO_NAME      |\n",
        "|                           GNR                           |        GNR        |\n",
        "|                    DATA_QUALITY_FLAG                    | DATA_QUALITY_FLAG |\n",
        "|                      CSD_TYPE_NAME                      |   CSD_TYPE_NAME   |\n",
        "|                      ALT_GEO_CODE                       |   ALT_GEO_CODE    |\n",
        "|    DIM: Age (in single years) and average  age (127)    |      AGE_CAT      |\n",
        "| Member ID: Age (in single years) and  average age (127) |    AGE_CAT_ID     |\n",
        "|   Notes: Age (in single years) and average  age (127)   |   **DROP COLUMN**   |\n",
        "|        Dim: Sex (3): Member ID: [1]: Total - Sex        |       TOTAL       |\n",
        "|           Dim: Sex (3): Member ID: [2]: Male            |    TOTAL_MALE     |\n",
        "|          Dim: Sex (3): Member ID: [3]: Female           |   TOTAL_FEMALE    |\n",
        "\n"
      ]
    },
    {
      "cell_type": "markdown",
      "metadata": {
        "id": "_4GiWp4cfYjM"
      },
      "source": [
        "## Long to Wide Script"
      ]
    },
    {
      "cell_type": "markdown",
      "metadata": {
        "id": "rFNPxxu1fdlp"
      },
      "source": [
        "### Load File as DataFrame"
      ]
    },
    {
      "cell_type": "code",
      "metadata": {
        "id": "sAbJmrMze_Uy"
      },
      "source": [
        "# imports\n",
        "from google.colab import files\n",
        "import pandas as pd\n",
        "from functools import reduce\n",
        "\n",
        "# Need to Implement Chunking for full dataset to speed up file upload\n",
        "\n",
        "raw_data = files.upload()\n",
        "filename = str(list(raw_data.keys())[0])"
      ],
      "execution_count": null,
      "outputs": []
    },
    {
      "cell_type": "code",
      "metadata": {
        "id": "59sV616exOd1"
      },
      "source": [
        "raw_df = pd.read_csv(filename, dtype=str)\n",
        "# sanity check\n",
        "raw_df.head(10)"
      ],
      "execution_count": null,
      "outputs": []
    },
    {
      "cell_type": "markdown",
      "metadata": {
        "id": "kwY0tk6Jfnlh"
      },
      "source": [
        "### Define WideDataRow Class"
      ]
    },
    {
      "cell_type": "code",
      "metadata": {
        "id": "-3fVNyvWyPu7"
      },
      "source": [
        "class WideDataRow:\n",
        "  def __init__(self, long_data_row):\n",
        "    self.year = long_data_row['CENSUS_YEAR']\n",
        "    self.geo_code = long_data_row['GEO_CODE']\n",
        "    self.geo_level = long_data_row['GEO_LEVEL']\n",
        "    self.geo_name = long_data_row['GEO_NAME']\n",
        "    self.gnr = long_data_row['GNR']\n",
        "    self.data_quality = long_data_row['DATA_QUALITY_FLAG']\n",
        "    self.csd_type = long_data_row['CSD_TYPE_NAME']\n",
        "    self.alt_geo_code = long_data_row['ALT_GEO_CODE']\n",
        "    self.age_groups_total = {}\n",
        "    self.age_groups_male = {}\n",
        "    self.age_groups_female = {}\n",
        "\n",
        "  def add_age_data(self, long_data_row):\n",
        "    self.age_groups_total[long_data_row['AGE_CAT']] = long_data_row['TOTAL']\n",
        "    self.age_groups_male[long_data_row['AGE_CAT'] + '_male'] = long_data_row['TOTAL_MALE']\n",
        "    self.age_groups_female[long_data_row['AGE_CAT'] + '_female'] = long_data_row['TOTAL_FEMALE']"
      ],
      "execution_count": 3,
      "outputs": []
    },
    {
      "cell_type": "markdown",
      "metadata": {
        "id": "KZczzpElfvVh"
      },
      "source": [
        "### Define a Age Group Reference Dict"
      ]
    },
    {
      "cell_type": "code",
      "metadata": {
        "id": "a4lDGV8c1TvH"
      },
      "source": [
        "age_group_key_ref = {\n",
        "   1: 'Total - Age',\n",
        "   3: '0 to 4 years',\n",
        "   9: '5 to 9 years',\n",
        "  15: '10 to 14 years',\n",
        "  22: '15 to 19 years',\n",
        "  28: '20 to 24 years',\n",
        "  34: '25 to 29 years',\n",
        "  40: '30 to 34 years',\n",
        "  46: '35 to 39 years',\n",
        "  52: '40 to 44 years',\n",
        "  58: '45 to 49 years',\n",
        "  64: '50 to 54 years',\n",
        "  70: '55 to 59 years',\n",
        "  76: '60 to 64 years',\n",
        "  83: '65 to 69 years',\n",
        "  89: '70 to 74 years',\n",
        "  95: '75 to 79 years',\n",
        " 101: '80 to 84 years',\n",
        " 108: '85 to 89 years',\n",
        " 114: '90 to 94 years',\n",
        " 120: '95 to 99 years',\n",
        " 126: '100 years and over'\n",
        "}"
      ],
      "execution_count": 4,
      "outputs": []
    },
    {
      "cell_type": "markdown",
      "metadata": {
        "id": "fylyQ4IWf4HZ"
      },
      "source": [
        "### Iterate Over Raw Data Rows with parse_data()\n",
        "\n",
        "Here we define the function parse data, which iterates over the rows of raw data creating WideDataRow objects. It returns a dict of WideDataRow Objects"
      ]
    },
    {
      "cell_type": "code",
      "metadata": {
        "id": "U-wN6PlN3Uu-"
      },
      "source": [
        "def parse_data(raw_df, ref_dict):\n",
        "  \n",
        "  wide_data = {}\n",
        "\n",
        "  for i, row in raw_df.iterrows():  \n",
        "    if row['AGE_CAT_ID'] in ref_dict:\n",
        "      if row['GEO_CODE'] not in wide_data:\n",
        "        wide_data_obj = WideDataRow(row)\n",
        "        wide_data_obj.add_age_data(row)\n",
        "        wide_data[row['GEO_CODE']] = wide_data_obj\n",
        "      else:\n",
        "        wide_data[row['GEO_CODE']].add_age_data(row)\n",
        "      \n",
        "  \n",
        "  return wide_data"
      ],
      "execution_count": 5,
      "outputs": []
    },
    {
      "cell_type": "markdown",
      "metadata": {
        "id": "Xrgh_4BrguWC"
      },
      "source": [
        "### Return Wide Format of Age Population Data\n",
        "\n",
        "The function wide_rows iterates over the values of the dictionary of parsed data calling the obj_to_row function on each row object and returns the concatenated rows"
      ]
    },
    {
      "cell_type": "code",
      "metadata": {
        "id": "rjLh03iwD8Wx"
      },
      "source": [
        "def obj_to_row(wide_obj):\n",
        "  meta = pd.Series({\n",
        "                   'year': wide_obj.year,\n",
        "                   'geo_code':wide_obj.geo_code,\n",
        "                   'geo_name':wide_obj.geo_name,\n",
        "                   'gnr':wide_obj.gnr,\n",
        "                   'data_quality':wide_obj.data_quality,\n",
        "                   'csd_type':wide_obj.csd_type,\n",
        "                   'alt_geo_code':wide_obj.alt_geo_code\n",
        "                   }).to_frame().transpose()\n",
        "\n",
        "\n",
        "  total_ages = pd.Series(wide_obj.age_groups_total,dtype=int).to_frame().transpose()\n",
        "  male_ages = pd.Series(wide_obj.age_groups_male, dtype=int).to_frame().transpose()\n",
        "  female_ages = pd.Series(wide_obj.age_groups_female, dtype=int).to_frame().transpose()\n",
        "\n",
        "  series_list = [meta, total_ages, male_ages, female_ages]\n",
        "\n",
        "  combined = reduce(lambda left, right: pd.merge(left, right, left_index=True, right_index=True ), series_list)\n",
        "  return combined"
      ],
      "execution_count": 6,
      "outputs": []
    },
    {
      "cell_type": "code",
      "metadata": {
        "id": "A25F_-GyBV-k"
      },
      "source": [
        "def wide_rows(parsed_data):\n",
        " \n",
        " wide_rows = [obj_to_row(row_obj) for row_obj in parsed_data]\n",
        "\n",
        " return pd.concat(wide_rows).reset_index()\n",
        "\n",
        "# sanity check\n",
        "wide_rows(parse_data(raw_df, age_group_key_ref).values()).head(10)\n",
        "\n"
      ],
      "execution_count": null,
      "outputs": []
    }
  ]
}